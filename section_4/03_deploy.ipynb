{
  "nbformat": 4,
  "nbformat_minor": 0,
  "metadata": {
    "colab": {
      "provenance": [],
      "authorship_tag": "ABX9TyPvNTkKsLQVDPUBXIJbJ7DJ",
      "include_colab_link": true
    },
    "kernelspec": {
      "name": "python3",
      "display_name": "Python 3"
    },
    "language_info": {
      "name": "python"
    }
  },
  "cells": [
    {
      "cell_type": "markdown",
      "metadata": {
        "id": "view-in-github",
        "colab_type": "text"
      },
      "source": [
        "<a href=\"https://colab.research.google.com/github/yukinaga/langchain/blob/main/section_4/03_deploy.ipynb\" target=\"_parent\"><img src=\"https://colab.research.google.com/assets/colab-badge.svg\" alt=\"Open In Colab\"/></a>"
      ]
    },
    {
      "cell_type": "markdown",
      "metadata": {
        "id": "8kW_qXJVTjic"
      },
      "source": [
        "# デプロイの準備\n",
        "Streamlit Community Cloudにアプリをデプロイする準備をします。"
      ]
    },
    {
      "cell_type": "markdown",
      "source": [
        "## 翻訳アプリのコード\n",
        "`%%writefile`のマジックコマンドを使って、翻訳アプリのコードを「app.py」に書き込みます。  \n",
        "今回、OpneAIのAPI keyは、Streamlit Community Cloudの「Secrets」に保存します。  "
      ],
      "metadata": {
        "id": "5fOtVgU5duPe"
      }
    },
    {
      "cell_type": "code",
      "source": [
        "%%writefile app.py\n",
        "# 以下を「app.py」に書き込み\n",
        "import streamlit as st\n",
        "from langchain_openai import ChatOpenAI\n",
        "from langchain.schema import HumanMessage, SystemMessage\n",
        "from langchain.prompts.chat import (\n",
        "    ChatPromptTemplate,\n",
        "    HumanMessagePromptTemplate,\n",
        "    SystemMessagePromptTemplate\n",
        ")\n",
        "import os\n",
        "\n",
        "# Streamlit Community Cloudの「Secrets」からOpenAI API keyを取得\n",
        "os.environ[\"OPENAI_API_KEY\"] = st.secrets.OpenAIAPI.openai_api_key\n",
        "\n",
        "chat = ChatOpenAI(model=\"gpt-3.5-turbo\")\n",
        "\n",
        "# プロンプトのテンプレート\n",
        "system_template = (\n",
        "    \"あなたは、{source_lang} を {target_lang}に翻訳する優秀な翻訳アシスタントです。翻訳結果以外は出力しないでください。\"\n",
        ")\n",
        "system_message_prompt = SystemMessagePromptTemplate.from_template(system_template)\n",
        "\n",
        "human_template = \"{text}\"\n",
        "human_message_prompt = HumanMessagePromptTemplate.from_template(human_template)\n",
        "\n",
        "chat_prompt = ChatPromptTemplate.from_messages(\n",
        "    [system_message_prompt, human_message_prompt]\n",
        ")\n",
        "\n",
        "if \"response\" not in st.session_state:\n",
        "    st.session_state[\"response\"]= \"\"\n",
        "\n",
        "# LLMとやりとりする関数\n",
        "def communicate():\n",
        "    text = st.session_state[\"user_input\"]\n",
        "    response = chat(\n",
        "        chat_prompt.format_prompt(\n",
        "            source_lang=source_lang, target_lang=target_lang, text=text\n",
        "        ).to_messages()\n",
        "    )\n",
        "    st.session_state[\"response\"] = response.content\n",
        "\n",
        "# ユーザーインターフェイスの構築\n",
        "st.title(\"翻訳アプリ\")\n",
        "st.write(\"LangChainを使った翻訳アプリです。\")\n",
        "\n",
        "options = [\"日本語\", \"英語\", \"スペイン語\", \"ドイツ語\", \"フランス語\", \"中国語\"]\n",
        "source_lang = st.selectbox(label=\"翻訳元\", options=options)\n",
        "target_lang = st.selectbox(label=\"翻訳先\", options=options)\n",
        "st.text_input(\"翻訳する文章を入力してください。\", key=\"user_input\")\n",
        "st.button(\"翻訳\", type=\"primary\", on_click=communicate)\n",
        "\n",
        "if st.session_state[\"user_input\"] != \"\":\n",
        "    st.write(\"翻訳結果:\")\n",
        "    st.write(st.session_state[\"response\"])"
      ],
      "metadata": {
        "id": "Ntj_BU3bnJli"
      },
      "execution_count": null,
      "outputs": []
    },
    {
      "cell_type": "markdown",
      "source": [
        "## requirements.txtの作成\n",
        "Streamlit Community Cloudのサーバー上でアプリを動かすために、「requirements.txt」を作成する必要があります。  \n",
        "このファイルでは、必要なライブラリを指定します。  \n",
        "以下のセルでは、`%%writefile`のマジックコマンドを使って、必要なライブラリを「requirements.txt」に書き込みます。  "
      ],
      "metadata": {
        "id": "CCdXdIEWqWM4"
      }
    },
    {
      "cell_type": "code",
      "source": [
        "%%writefile requirements.txt\n",
        "streamlit==1.20.0\n",
        "langchain\n",
        "langchain-openai"
      ],
      "metadata": {
        "id": "0h-58Ai2OO63"
      },
      "execution_count": null,
      "outputs": []
    },
    {
      "cell_type": "markdown",
      "source": [
        "以下の作成されたファイルをダウンロードして、GitHubのレポジトリにアップしましょう。\n",
        "* app.py\n",
        "* requirements.txt"
      ],
      "metadata": {
        "id": "pVNwH5XOtAt-"
      }
    }
  ]
}