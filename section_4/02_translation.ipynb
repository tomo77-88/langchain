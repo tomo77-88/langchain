{
  "nbformat": 4,
  "nbformat_minor": 0,
  "metadata": {
    "colab": {
      "provenance": [],
      "authorship_tag": "ABX9TyML5kjepPPujgba3xngWMfW",
      "include_colab_link": true
    },
    "kernelspec": {
      "name": "python3",
      "display_name": "Python 3"
    },
    "language_info": {
      "name": "python"
    }
  },
  "cells": [
    {
      "cell_type": "markdown",
      "metadata": {
        "id": "view-in-github",
        "colab_type": "text"
      },
      "source": [
        "<a href=\"https://colab.research.google.com/github/yukinaga/langchain/blob/main/section_4/02_translation.ipynb\" target=\"_parent\"><img src=\"https://colab.research.google.com/assets/colab-badge.svg\" alt=\"Open In Colab\"/></a>"
      ]
    },
    {
      "cell_type": "markdown",
      "metadata": {
        "id": "8kW_qXJVTjic"
      },
      "source": [
        "# 翻訳アプリ\n",
        "LangChainとStreamlitを使い、「翻訳アプリ」を構築します。  "
      ]
    },
    {
      "cell_type": "markdown",
      "source": [
        "## ライブラリのインストール\n",
        "langchain-coreとlangchain-openaiをインストールします。  \n",
        "また、UIを構築するための「Streamlit」、およびアプリの動作の確認に使用する「ngrok」をインストールします。  "
      ],
      "metadata": {
        "id": "vRJCuxALcgkb"
      }
    },
    {
      "cell_type": "code",
      "execution_count": null,
      "metadata": {
        "id": "Pbqipzj3nCy4"
      },
      "outputs": [],
      "source": [
        "!pip install streamlit==1.20.0 --quiet\n",
        "!pip install pyngrok --quiet\n",
        "!pip install langchain langchain-openai"
      ]
    },
    {
      "cell_type": "markdown",
      "source": [
        "## 翻訳アプリのコード\n",
        "`%%writefile`のマジックコマンドを使って、翻訳アプリのコードを「app.py」に書き込みます。  \n",
        "Streamlitでは、値を保持するために「st.session_state」を使います。  \n",
        "https://docs.streamlit.io/library/api-reference/session-state"
      ],
      "metadata": {
        "id": "5fOtVgU5duPe"
      }
    },
    {
      "cell_type": "code",
      "source": [
        "%%writefile app.py\n",
        "# 以下を「app.py」に書き込み\n",
        "import streamlit as st\n",
        "from langchain_openai import ChatOpenAI\n",
        "from langchain.schema import HumanMessage, SystemMessage\n",
        "from langchain.prompts.chat import (\n",
        "    ChatPromptTemplate,\n",
        "    HumanMessagePromptTemplate,\n",
        "    SystemMessagePromptTemplate\n",
        ")\n",
        "import os\n",
        "import secret_keys  # 外部ファイルにAPI keyを保存\n",
        "\n",
        "os.environ[\"OPENAI_API_KEY\"] = secret_keys.openai_api_key\n",
        "chat = ChatOpenAI(model=\"gpt-3.5-turbo\")\n",
        "\n",
        "# プロンプトのテンプレート\n",
        "system_template = (\n",
        "    \"あなたは、{source_lang} を {target_lang}に翻訳する優秀な翻訳アシスタントです。翻訳結果以外は出力しないでください。\"\n",
        ")\n",
        "system_message_prompt = SystemMessagePromptTemplate.from_template(system_template)\n",
        "\n",
        "human_template = \"{text}\"\n",
        "human_message_prompt = HumanMessagePromptTemplate.from_template(human_template)\n",
        "\n",
        "chat_prompt = ChatPromptTemplate.from_messages(\n",
        "    [system_message_prompt, human_message_prompt]\n",
        ")\n",
        "\n",
        "if \"response\" not in st.session_state:\n",
        "    st.session_state[\"response\"]= \"\"\n",
        "\n",
        "# LLMとやりとりする関数\n",
        "def communicate():\n",
        "    text = st.session_state[\"user_input\"]\n",
        "    response = chat(\n",
        "        chat_prompt.format_prompt(\n",
        "            source_lang=source_lang, target_lang=target_lang, text=text\n",
        "        ).to_messages()\n",
        "    )\n",
        "    st.session_state[\"response\"] = response.content\n",
        "\n",
        "# ユーザーインターフェイスの構築\n",
        "st.title(\"翻訳アプリ\")\n",
        "st.write(\"LangChainを使った翻訳アプリです。\")\n",
        "\n",
        "options = [\"日本語\", \"英語\", \"スペイン語\", \"ドイツ語\", \"フランス語\", \"中国語\"]\n",
        "source_lang = st.selectbox(label=\"翻訳元\", options=options)\n",
        "target_lang = st.selectbox(label=\"翻訳先\", options=options)\n",
        "st.text_input(\"翻訳する文章を入力してください。\", key=\"user_input\")\n",
        "st.button(\"翻訳\", type=\"primary\", on_click=communicate)\n",
        "\n",
        "if st.session_state[\"user_input\"] != \"\":\n",
        "    st.write(\"翻訳結果:\")\n",
        "    st.write(st.session_state[\"response\"])"
      ],
      "metadata": {
        "id": "Ntj_BU3bnJli"
      },
      "execution_count": null,
      "outputs": []
    },
    {
      "cell_type": "markdown",
      "source": [
        "## OpenAIのAPI keyを設定\n",
        "ChatGPT APIを使用するために必要な「API key」を設定します。  \n",
        "`%%writefile`のマジックコマンドを使って、API keyを設定するコードを「secret_keys.py」に書き込みます。  \n",
        "以下のコードの、  \n",
        "`openai_api_key = \"Your API key\"`  \n",
        "における  \n",
        "`Your API key`の箇所を、自分のAPI keyに置き換えます。  \n",
        "ChatGPTのAPI keyは、OpenAIのサイトで取得できます。   \n",
        "https://platform.openai.com/account/api-keys\n"
      ],
      "metadata": {
        "id": "pCvWZuvqQvyC"
      }
    },
    {
      "cell_type": "code",
      "source": [
        "%%writefile secret_keys.py\n",
        "\n",
        "openai_api_key = \"Your API key\""
      ],
      "metadata": {
        "id": "4lkJr3dk89bD"
      },
      "execution_count": null,
      "outputs": []
    },
    {
      "cell_type": "markdown",
      "source": [
        "API keyの流出にはリスクがあります。  \n",
        "他者に知られないように、慎重に扱ってください。"
      ],
      "metadata": {
        "id": "2lEUNEp9n95k"
      }
    },
    {
      "cell_type": "markdown",
      "source": [
        "## ngrokのAuthtokenを設定\n",
        "ngrokで接続するために必要な「Authtoken」を設定します。  \n",
        "以下のコードの、  \n",
        "`!ngrok authtoken YourAuthtoken`  \n",
        "における  \n",
        "`YourAuthtoken`の箇所を、自分のAuthtokenに置き換えます。  \n",
        "Authtokenは、ngrokのサイトに登録すれば取得することができます。  \n",
        "https://ngrok.com/\n"
      ],
      "metadata": {
        "id": "j03EsJaHh4KK"
      }
    },
    {
      "cell_type": "code",
      "source": [
        "!ngrok authtoken YourAuthtoken"
      ],
      "metadata": {
        "id": "mTfmORj2Dn7-"
      },
      "execution_count": null,
      "outputs": []
    },
    {
      "cell_type": "markdown",
      "source": [
        "ngrokのAuthtokenも、他者に知られないように慎重に扱ってください。"
      ],
      "metadata": {
        "id": "c_QaXaeyZHTJ"
      }
    },
    {
      "cell_type": "markdown",
      "source": [
        "## アプリの起動\n",
        "streamlitの`run`コマンドでアプリを起動します。\n"
      ],
      "metadata": {
        "id": "CnobL05MkjB1"
      }
    },
    {
      "cell_type": "code",
      "source": [
        "!streamlit run app.py &>/dev/null&  # 「&>/dev/null&」により、出力を非表示にしてバックグランドジョブとして実行"
      ],
      "metadata": {
        "id": "W0jXlMXWK0vi"
      },
      "execution_count": null,
      "outputs": []
    },
    {
      "cell_type": "markdown",
      "source": [
        "ngrokのプロセスを終了した上で、新たにポートを指定して接続します。  \n",
        "接続の結果、urlを取得できます。  \n",
        "ngrokの無料プランでは同時に1つのプロセスしか動かせないので、エラーが発生した場合は「ランタイム」→「セッションの管理」で不要なGoogle Colabのセッションを修了しましょう。  "
      ],
      "metadata": {
        "id": "W5RLCJ7Sl2x_"
      }
    },
    {
      "cell_type": "code",
      "source": [
        "from pyngrok import ngrok\n",
        "\n",
        "ngrok.kill()  # プロセスの修了\n",
        "url = ngrok.connect(\"8501\").public_url  # 接続"
      ],
      "metadata": {
        "id": "v23ymsdLK3x7"
      },
      "execution_count": null,
      "outputs": []
    },
    {
      "cell_type": "markdown",
      "source": [
        "## 動作の確認"
      ],
      "metadata": {
        "id": "8tVONgWNwzZm"
      }
    },
    {
      "cell_type": "markdown",
      "source": [
        "URLのhttpの部分をhttpsに変換する関数を設定します。"
      ],
      "metadata": {
        "id": "OywWF0KBw4y5"
      }
    },
    {
      "cell_type": "code",
      "source": [
        "def convert_http_to_https(url):\n",
        "    if url.startswith(\"http://\"):\n",
        "        url = url.replace(\"http://\", \"https://\", 1)\n",
        "    return url"
      ],
      "metadata": {
        "id": "gaEkk5Dsx0rR"
      },
      "execution_count": null,
      "outputs": []
    },
    {
      "cell_type": "markdown",
      "source": [
        "変換したurlを表示し、リンク先で翻訳アプリが動作することを確認します。"
      ],
      "metadata": {
        "id": "NZ0O_pNan57t"
      }
    },
    {
      "cell_type": "code",
      "source": [
        "print(convert_http_to_https(url))"
      ],
      "metadata": {
        "id": "MIY7ositLAXC"
      },
      "execution_count": null,
      "outputs": []
    },
    {
      "cell_type": "markdown",
      "source": [
        "動作確認後、OpenAIのサイトでAPIの使用量を確認してみましょう。  \n",
        "https://platform.openai.com/account/usage"
      ],
      "metadata": {
        "id": "B8hdFAd6VIaz"
      }
    }
  ]
}