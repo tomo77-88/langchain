{
  "cells": [
    {
      "cell_type": "markdown",
      "metadata": {
        "colab_type": "text",
        "id": "view-in-github"
      },
      "source": [
        "<a href=\"https://colab.research.google.com/github/yukinaga/langchain/blob/main/section_3/02_agents.ipynb\" target=\"_parent\"><img src=\"https://colab.research.google.com/assets/colab-badge.svg\" alt=\"Open In Colab\"/></a>"
      ]
    },
    {
      "cell_type": "markdown",
      "metadata": {
        "id": "NJ0ypAO3Nd9n"
      },
      "source": [
        "# Agents\n",
        "Agentsは独立したタスクを自動的に実行するエージェントです。  \n",
        "今回のコードは、以下の公式ドキュメントを参考にしています。  \n",
        "https://python.langchain.com/docs/\n"
      ]
    },
    {
      "cell_type": "markdown",
      "metadata": {
        "id": "rohh9-kEV-8q"
      },
      "source": [
        "## ライブラリのインストール\n",
        "langchain-coreとlangchain-openai、そしてwikipediaをインストールします。  "
      ]
    },
    {
      "cell_type": "code",
      "execution_count": null,
      "metadata": {
        "id": "Wo66c8k56kai"
      },
      "outputs": [],
      "source": [
        "!pip install langchain langchain-openai wikipedia"
      ]
    },
    {
      "cell_type": "markdown",
      "metadata": {
        "id": "j03EsJaHh4KK"
      },
      "source": [
        "## API Keyの設定\n",
        "OpneAIのAPIを使用するために必要な「API key」を設定します。  \n",
        "以下のコードの、  \n",
        "`os.environ[\"OPENAI_API_KEY\"] = \"Your API key\"`  \n",
        "における  \n",
        "`Your API key`の箇所を、自分のAPI keyに置き換えます。  \n",
        "OpenAIのAPI keyは、OpenAIのサイトで取得できます。   \n",
        "https://platform.openai.com/account/api-keys\n"
      ]
    },
    {
      "cell_type": "code",
      "execution_count": null,
      "metadata": {
        "id": "4lkJr3dk89bD"
      },
      "outputs": [],
      "source": [
        "# 環境変数の準備\n",
        "import os\n",
        "from google.colab import userdata\n",
        "os.environ[\"OPENAI_API_KEY\"] = userdata.get(\"OPENAI_API_KEY\")"
      ]
    },
    {
      "cell_type": "markdown",
      "metadata": {
        "id": "2lEUNEp9n95k"
      },
      "source": [
        "API keyの流出にはリスクがあります。  \n",
        "他者に知られないように、慎重に扱ってください。"
      ]
    },
    {
      "cell_type": "markdown",
      "metadata": {
        "id": "jomNHjE3lPAJ"
      },
      "source": [
        "## Agentの設定\n",
        "Agentを設定します。  \n",
        "まずは使用するモデルを指定します。  "
      ]
    },
    {
      "cell_type": "code",
      "execution_count": null,
      "metadata": {
        "id": "nkswVM4r9BBt"
      },
      "outputs": [],
      "source": [
        "from langchain_openai import ChatOpenAI\n",
        "\n",
        "chat = ChatOpenAI(model=\"gpt-3.5-turbo\", temperature=0)"
      ]
    },
    {
      "cell_type": "markdown",
      "metadata": {
        "id": "4moHual6zY0O"
      },
      "source": [
        "次に、プロンプトの設定を行います。"
      ]
    },
    {
      "cell_type": "code",
      "execution_count": null,
      "metadata": {
        "id": "_2BjWBKwdZOI"
      },
      "outputs": [],
      "source": [
        "from langchain_core.prompts import ChatPromptTemplate, MessagesPlaceholder\n",
        "\n",
        "prompt = ChatPromptTemplate.from_messages(\n",
        "    [\n",
        "        (\"system\", \"あなたは優秀なアシスタントです。\"),\n",
        "        MessagesPlaceholder(\"chat_history\", optional=True),\n",
        "        (\"human\", \"{input}\"),\n",
        "        MessagesPlaceholder(\"agent_scratchpad\"),\n",
        "    ]\n",
        ")"
      ]
    },
    {
      "cell_type": "markdown",
      "metadata": {
        "id": "efX_A9UkzczD"
      },
      "source": [
        "次に、使用するツールを設定します。  \n",
        "今回は、数学とWikipediaのツールを設定します。  \n",
        "\n"
      ]
    },
    {
      "cell_type": "code",
      "execution_count": null,
      "metadata": {
        "id": "rF4bgkbbebCx"
      },
      "outputs": [],
      "source": [
        "from langchain.agents import load_tools\n",
        "\n",
        "tools = load_tools(\n",
        "    tool_names=[\"llm-math\", \"wikipedia\"],\n",
        "    llm=chat\n",
        ")"
      ]
    },
    {
      "cell_type": "markdown",
      "metadata": {
        "id": "1nSAd1w10n0N"
      },
      "source": [
        "モデル、プロンプト、ツールの設定を使用し、エージェントを作成します。"
      ]
    },
    {
      "cell_type": "code",
      "execution_count": null,
      "metadata": {
        "id": "0EpKmbnheFYQ"
      },
      "outputs": [],
      "source": [
        "from langchain.agents import create_openai_functions_agent\n",
        "\n",
        "agent = create_openai_functions_agent(chat, tools, prompt)"
      ]
    },
    {
      "cell_type": "markdown",
      "metadata": {
        "id": "R-0EGUt_0yxN"
      },
      "source": [
        "## エージェントの利用\n",
        "エージェントを利用し、様々な問題に対処します。  \n",
        "以下のコードでは「AgentExecutor」を使用し、エージェントの実行環境を作成しています。"
      ]
    },
    {
      "cell_type": "code",
      "execution_count": null,
      "metadata": {
        "id": "M211KsM-hVXR"
      },
      "outputs": [],
      "source": [
        "from langchain.agents import AgentExecutor\n",
        "\n",
        "agent_executor = AgentExecutor(agent=agent, tools=tools, verbose=True)"
      ]
    },
    {
      "cell_type": "markdown",
      "metadata": {
        "id": "NUsE7Ua01mR7"
      },
      "source": [
        "以下の質問をすると、Wikipediaのデータをもとに返答が作成されます。"
      ]
    },
    {
      "cell_type": "code",
      "execution_count": null,
      "metadata": {
        "id": "YizH7Vn6hbEX"
      },
      "outputs": [],
      "source": [
        "agent_executor.invoke({\"input\": \"関ヶ原の戦いについて詳しく教えてください。\"})"
      ]
    },
    {
      "cell_type": "markdown",
      "metadata": {
        "id": "7S1DdgN01z1q"
      },
      "source": [
        "以下の質問には、数学のツールが自動で選択されて返答が作成されます。"
      ]
    },
    {
      "cell_type": "code",
      "execution_count": null,
      "metadata": {
        "id": "rRcexFsxhoz_"
      },
      "outputs": [],
      "source": [
        "agent_executor.invoke({\"input\": \"円周率を二乗した値は？\"})"
      ]
    },
    {
      "cell_type": "markdown",
      "metadata": {
        "id": "B8hdFAd6VIaz"
      },
      "source": [
        "コードの実行後は、OpenAIのサイトでAPIの使用量を確認しましょう。  \n",
        "https://platform.openai.com/account/usage"
      ]
    }
  ],
  "metadata": {
    "colab": {
      "authorship_tag": "ABX9TyNzUPO75YFOhjrZwekIV+18",
      "include_colab_link": true,
      "provenance": []
    },
    "kernelspec": {
      "display_name": "Python 3",
      "name": "python3"
    },
    "language_info": {
      "name": "python"
    }
  },
  "nbformat": 4,
  "nbformat_minor": 0
}
