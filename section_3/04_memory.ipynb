{
  "nbformat": 4,
  "nbformat_minor": 0,
  "metadata": {
    "colab": {
      "provenance": [],
      "authorship_tag": "ABX9TyNYbkfIUMYIS8EcWVqUeW+E",
      "include_colab_link": true
    },
    "kernelspec": {
      "name": "python3",
      "display_name": "Python 3"
    },
    "language_info": {
      "name": "python"
    }
  },
  "cells": [
    {
      "cell_type": "markdown",
      "metadata": {
        "id": "view-in-github",
        "colab_type": "text"
      },
      "source": [
        "<a href=\"https://colab.research.google.com/github/yukinaga/langchain/blob/main/section_3/04_memory.ipynb\" target=\"_parent\"><img src=\"https://colab.research.google.com/assets/colab-badge.svg\" alt=\"Open In Colab\"/></a>"
      ]
    },
    {
      "cell_type": "markdown",
      "source": [
        "# Memory\n",
        "Memoryは過去のやり取りを記憶し、それに基づいた回答を生成するために使用します。    \n",
        "今回のコードは、以下の公式ドキュメントを参考にしています。  \n",
        "https://python.langchain.com/docs/\n"
      ],
      "metadata": {
        "id": "NJ0ypAO3Nd9n"
      }
    },
    {
      "cell_type": "markdown",
      "source": [
        "## ライブラリのインストール\n",
        "lanchain、langchain-coreとlangchain-openaiをインストールします。  "
      ],
      "metadata": {
        "id": "rohh9-kEV-8q"
      }
    },
    {
      "cell_type": "code",
      "execution_count": null,
      "metadata": {
        "id": "Wo66c8k56kai"
      },
      "outputs": [],
      "source": [
        "!pip install langchain langchain-core langchain-openai"
      ]
    },
    {
      "cell_type": "markdown",
      "source": [
        "## API Keyの設定\n",
        "OpneAIのAPIを使用するために必要な「API key」を設定します。  \n",
        "以下のコードの、  \n",
        "`os.environ[\"OPENAI_API_KEY\"] = \"Your API key\"`  \n",
        "における  \n",
        "`Your API key`の箇所を、自分のAPI keyに置き換えます。  \n",
        "OpenAIのAPI keyは、OpenAIのサイトで取得できます。   \n",
        "https://platform.openai.com/account/api-keys\n"
      ],
      "metadata": {
        "id": "j03EsJaHh4KK"
      }
    },
    {
      "cell_type": "code",
      "source": [
        "import os\n",
        "\n",
        "os.environ[\"OPENAI_API_KEY\"] = \"Your API key\""
      ],
      "metadata": {
        "id": "4lkJr3dk89bD"
      },
      "execution_count": null,
      "outputs": []
    },
    {
      "cell_type": "markdown",
      "source": [
        "API keyの流出にはリスクがあります。  \n",
        "他者に知られないように、慎重に扱ってください。"
      ],
      "metadata": {
        "id": "2lEUNEp9n95k"
      }
    },
    {
      "cell_type": "markdown",
      "source": [
        "## Agentの設定\n",
        "Agentを設定します。  "
      ],
      "metadata": {
        "id": "jomNHjE3lPAJ"
      }
    },
    {
      "cell_type": "code",
      "source": [
        "from langchain_openai import ChatOpenAI\n",
        "from langchain_core.prompts import ChatPromptTemplate, MessagesPlaceholder\n",
        "from langchain.agents import load_tools\n",
        "from langchain.agents import create_openai_functions_agent\n",
        "\n",
        "chat = ChatOpenAI(model=\"gpt-3.5-turbo\", temperature=0)\n",
        "\n",
        "prompt = ChatPromptTemplate.from_messages(\n",
        "    [\n",
        "        (\"system\", \"あなたは優秀なアシスタントです。\"),\n",
        "        MessagesPlaceholder(\"chat_history\", optional=True),\n",
        "        (\"human\", \"{input}\"),\n",
        "        MessagesPlaceholder(\"agent_scratchpad\"),\n",
        "    ]\n",
        ")\n",
        "\n",
        "tools = load_tools(\n",
        "    tool_names=[\"llm-math\"],\n",
        "    llm=chat\n",
        ")\n",
        "\n",
        "agent = create_openai_functions_agent(chat, tools, prompt)"
      ],
      "metadata": {
        "id": "nkswVM4r9BBt"
      },
      "execution_count": null,
      "outputs": []
    },
    {
      "cell_type": "markdown",
      "source": [
        "## Memory利用\n",
        "以下のコードは、Memoryの利用例の一つです。  \n",
        "「AgentExecutor」の使用時に設定します。  "
      ],
      "metadata": {
        "id": "R-0EGUt_0yxN"
      }
    },
    {
      "cell_type": "code",
      "source": [
        "from langchain.agents import AgentExecutor\n",
        "\n",
        "agent_executor = AgentExecutor(agent=agent, tools=tools, verbose=True)"
      ],
      "metadata": {
        "id": "M211KsM-hVXR"
      },
      "execution_count": null,
      "outputs": []
    },
    {
      "cell_type": "markdown",
      "source": [
        "これまでのやりとりを、`hisotory`に設定します。"
      ],
      "metadata": {
        "id": "VxiXAbDgK3sm"
      }
    },
    {
      "cell_type": "code",
      "source": [
        "from langchain_core.messages import AIMessage, HumanMessage\n",
        "\n",
        "history = [\n",
        "    HumanMessage(content=\"僕の名前はAI太郎。\"),\n",
        "    AIMessage(content=\"こんにちは、AI太郎。何かお助けできますか？。\"),\n",
        "    ]"
      ],
      "metadata": {
        "id": "5KN2s_fhK8r7"
      },
      "execution_count": null,
      "outputs": []
    },
    {
      "cell_type": "markdown",
      "source": [
        "以下の質問をすると、これまでのやりとりをもとに返答が作成されます。"
      ],
      "metadata": {
        "id": "NUsE7Ua01mR7"
      }
    },
    {
      "cell_type": "code",
      "source": [
        "agent_executor.invoke({\n",
        "    \"chat_history\": history,\n",
        "    \"input\": \"僕の名前は何ですか？\"\n",
        "    })"
      ],
      "metadata": {
        "id": "YizH7Vn6hbEX"
      },
      "execution_count": null,
      "outputs": []
    },
    {
      "cell_type": "markdown",
      "source": [
        "コードの実行後は、OpenAIのサイトでAPIの使用量を確認しましょう。  \n",
        "https://platform.openai.com/account/usage"
      ],
      "metadata": {
        "id": "B8hdFAd6VIaz"
      }
    }
  ]
}