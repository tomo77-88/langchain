{
  "nbformat": 4,
  "nbformat_minor": 0,
  "metadata": {
    "colab": {
      "provenance": [],
      "authorship_tag": "ABX9TyMwc2nVeGZsDAVEOJ4pJOK4",
      "include_colab_link": true
    },
    "kernelspec": {
      "name": "python3",
      "display_name": "Python 3"
    },
    "language_info": {
      "name": "python"
    }
  },
  "cells": [
    {
      "cell_type": "markdown",
      "metadata": {
        "id": "view-in-github",
        "colab_type": "text"
      },
      "source": [
        "<a href=\"https://colab.research.google.com/github/yukinaga/langchain/blob/main/section_3/03_chains.ipynb\" target=\"_parent\"><img src=\"https://colab.research.google.com/assets/colab-badge.svg\" alt=\"Open In Colab\"/></a>"
      ]
    },
    {
      "cell_type": "markdown",
      "source": [
        "# Chains\n",
        "Chainsは複数のLLMの処理をつなげます。  \n",
        "複雑な処理を実行したい際に有用です。  \n"
      ],
      "metadata": {
        "id": "NJ0ypAO3Nd9n"
      }
    },
    {
      "cell_type": "markdown",
      "source": [
        "## ライブラリのインストール\n",
        "langchain-coreとlangchain-openaiをインストールします。  "
      ],
      "metadata": {
        "id": "rohh9-kEV-8q"
      }
    },
    {
      "cell_type": "code",
      "execution_count": null,
      "metadata": {
        "id": "Wo66c8k56kai"
      },
      "outputs": [],
      "source": [
        "!pip install langchain langchain-openai"
      ]
    },
    {
      "cell_type": "markdown",
      "source": [
        "## API Keyの設定\n",
        "OpneAIのAPIを使用するために必要な「API key」を設定します。  \n",
        "以下のコードの、  \n",
        "`os.environ[\"OPENAI_API_KEY\"] = \"Your API key\"`  \n",
        "における  \n",
        "`Your API key`の箇所を、自分のAPI keyに置き換えます。  \n",
        "OpenAIのAPI keyは、OpenAIのサイトで取得できます。   \n",
        "https://platform.openai.com/account/api-keys\n"
      ],
      "metadata": {
        "id": "j03EsJaHh4KK"
      }
    },
    {
      "cell_type": "code",
      "source": [
        "import os\n",
        "\n",
        "os.environ[\"OPENAI_API_KEY\"] = \"Your API key\""
      ],
      "metadata": {
        "id": "4lkJr3dk89bD"
      },
      "execution_count": null,
      "outputs": []
    },
    {
      "cell_type": "markdown",
      "source": [
        "API keyの流出にはリスクがあります。  \n",
        "他者に知られないように、慎重に扱ってください。"
      ],
      "metadata": {
        "id": "2lEUNEp9n95k"
      }
    },
    {
      "cell_type": "markdown",
      "source": [
        "## SequentialChain\n",
        "`langchain.chains.SequentialChain`により、複数のLLMの処理を連続で行うことができます。"
      ],
      "metadata": {
        "id": "jomNHjE3lPAJ"
      }
    },
    {
      "cell_type": "code",
      "source": [
        "from langchain.llms import OpenAI\n",
        "from langchain.prompts import PromptTemplate\n",
        "from langchain.chains import LLMChain\n",
        "from langchain.chains import SequentialChain\n",
        "\n",
        "llm = OpenAI(model_name=\"gpt-3.5-turbo-instruct\")\n",
        "\n",
        "# 1つ目のChain\n",
        "prompt_1 = PromptTemplate(\n",
        "    input_variables=[\"adjective\", \"genre\"],\n",
        "    template=\"{adjective}{genre}のあらすじを短い文章にまとめてください。\",\n",
        ")\n",
        "chain_1 = LLMChain(llm=llm, prompt=prompt_1, output_key=\"summary\")\n",
        "\n",
        "# 2つ目のChain\n",
        "prompt_2 = PromptTemplate(\n",
        "    input_variables=[\"summary\"],\n",
        "    template=\"「{summary}」をベースに、内容を膨らませて可能な限り長い物語を作成してください。\",\n",
        ")\n",
        "chain_2 = LLMChain(llm=llm, prompt=prompt_2, output_key=\"story\")\n",
        "\n",
        "# チェーンの結合\n",
        "chain = SequentialChain(\n",
        "    chains=[chain_1, chain_2],\n",
        "    input_variables=[\"adjective\", \"genre\"],\n",
        "    output_variables=[\"summary\", \"story\"],\n",
        "    verbose=True,\n",
        ")\n",
        "\n",
        "# 実行\n",
        "result = chain({\n",
        "    \"adjective\": \"現代が舞台の\",\n",
        "    \"genre\": \"ビジネス小説\",\n",
        "})\n",
        "print(result)\n",
        "print()\n",
        "print(\"Summary:\", result[\"summary\"])\n",
        "print()\n",
        "print(\"Story:\", result[\"story\"])"
      ],
      "metadata": {
        "id": "nkswVM4r9BBt"
      },
      "execution_count": null,
      "outputs": []
    },
    {
      "cell_type": "markdown",
      "source": [
        "コードの実行後は、OpenAIのサイトでAPIの使用量を確認しましょう。  \n",
        "https://platform.openai.com/account/usage"
      ],
      "metadata": {
        "id": "B8hdFAd6VIaz"
      }
    }
  ]
}