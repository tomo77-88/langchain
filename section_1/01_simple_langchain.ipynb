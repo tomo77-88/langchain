{
  "nbformat": 4,
  "nbformat_minor": 0,
  "metadata": {
    "colab": {
      "provenance": [],
      "authorship_tag": "ABX9TyPPg7eX6hWHUkQEy8zuh+iq",
      "include_colab_link": true
    },
    "kernelspec": {
      "name": "python3",
      "display_name": "Python 3"
    },
    "language_info": {
      "name": "python"
    }
  },
  "cells": [
    {
      "cell_type": "markdown",
      "metadata": {
        "id": "view-in-github",
        "colab_type": "text"
      },
      "source": [
        "<a href=\"https://colab.research.google.com/github/yukinaga/langchain/blob/main/section_1/01_simple_langchain.ipynb\" target=\"_parent\"><img src=\"https://colab.research.google.com/assets/colab-badge.svg\" alt=\"Open In Colab\"/></a>"
      ]
    },
    {
      "cell_type": "markdown",
      "source": [
        "# LangChainを使ってみよう！\n",
        "\n",
        "LangChainを体験します。  \n",
        "OpneAIのAPI keyを設定し、レスポンスを取得してみましょう。  \n",
        "なお、OpenAIのAPIは有料なので、決済手段の登録が必要になります。  \n",
        "決済手段を登録しないままコードを実行するとエラーになります。  "
      ],
      "metadata": {
        "id": "NJ0ypAO3Nd9n"
      }
    },
    {
      "cell_type": "markdown",
      "source": [
        "## ライブラリのインストール\n",
        "langchain-openaiをインストールします。  "
      ],
      "metadata": {
        "id": "rohh9-kEV-8q"
      }
    },
    {
      "cell_type": "code",
      "execution_count": null,
      "metadata": {
        "id": "Wo66c8k56kai"
      },
      "outputs": [],
      "source": [
        "!pip install langchain-openai"
      ]
    },
    {
      "cell_type": "markdown",
      "source": [
        "## API Keyの設定\n",
        "OpneAIのAPIを使用するために必要な「API key」を設定します。  \n",
        "以下のコードの、  \n",
        "`os.environ[\"OPENAI_API_KEY\"] = \"Your API key\"`  \n",
        "における  \n",
        "`Your API key`の箇所を、自分のAPI keyに置き換えます。  \n",
        "OpenAIのAPI keyは、OpenAIのサイトで取得できます。   \n",
        "https://platform.openai.com/account/api-keys\n"
      ],
      "metadata": {
        "id": "j03EsJaHh4KK"
      }
    },
    {
      "cell_type": "code",
      "source": [
        "import os\n",
        "\n",
        "os.environ[\"OPENAI_API_KEY\"] = \"Your API key\""
      ],
      "metadata": {
        "id": "4lkJr3dk89bD"
      },
      "execution_count": null,
      "outputs": []
    },
    {
      "cell_type": "markdown",
      "source": [
        "API keyの流出にはリスクがあります。  \n",
        "他者に知られないように、慎重に扱ってください。"
      ],
      "metadata": {
        "id": "2lEUNEp9n95k"
      }
    },
    {
      "cell_type": "markdown",
      "source": [
        "## レスポンスの取得\n",
        "`langchain_openai.OpneAI()`を使い、LLMからのレスポンスを取得します。   \n"
      ],
      "metadata": {
        "id": "jomNHjE3lPAJ"
      }
    },
    {
      "cell_type": "code",
      "source": [
        "from langchain_openai import OpenAI\n",
        "\n",
        "llm = OpenAI()\n",
        "\n",
        "query = \"最初の近代オリンピックはどこで開催されましたか？\"\n",
        "\n",
        "llm.invoke(query)"
      ],
      "metadata": {
        "id": "nkswVM4r9BBt"
      },
      "execution_count": null,
      "outputs": []
    },
    {
      "cell_type": "markdown",
      "source": [
        "レスポンスを取得することができました。  \n",
        "\n",
        "上記のコードの実行後、OpenAIのサイトでAPIの使用量を確認してみましょう。  \n",
        "https://platform.openai.com/account/usage"
      ],
      "metadata": {
        "id": "B8hdFAd6VIaz"
      }
    }
  ]
}